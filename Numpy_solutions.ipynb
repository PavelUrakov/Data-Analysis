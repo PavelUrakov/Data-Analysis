{
  "nbformat": 4,
  "nbformat_minor": 0,
  "metadata": {
    "colab": {
      "provenance": []
    },
    "kernelspec": {
      "name": "python3",
      "display_name": "Python 3"
    },
    "language_info": {
      "name": "python"
    }
  },
  "cells": [
    {
      "cell_type": "code",
      "execution_count": 3,
      "metadata": {
        "colab": {
          "base_uri": "https://localhost:8080/"
        },
        "id": "v-zhArYEOm5D",
        "outputId": "8e79b299-694e-4d10-c42a-a0e3b517ba78"
      },
      "outputs": [
        {
          "output_type": "stream",
          "name": "stdout",
          "text": [
            "hi\n"
          ]
        }
      ],
      "source": [
        "print ('hi')"
      ]
    },
    {
      "cell_type": "markdown",
      "source": [
        "Task a"
      ],
      "metadata": {
        "id": "5eIIrN5fPAyx"
      }
    },
    {
      "cell_type": "code",
      "source": [
        "import numpy as np"
      ],
      "metadata": {
        "id": "WIl2REGJPKiM"
      },
      "execution_count": 4,
      "outputs": []
    },
    {
      "cell_type": "markdown",
      "source": [
        "Task b"
      ],
      "metadata": {
        "id": "vERW3NFoPdEq"
      }
    },
    {
      "cell_type": "code",
      "source": [
        "b = np.zeros((5,2))\n",
        "print(b)"
      ],
      "metadata": {
        "colab": {
          "base_uri": "https://localhost:8080/"
        },
        "id": "KaL6Z0WwPd9I",
        "outputId": "c0846b82-4837-4d15-90a0-2454572697f5"
      },
      "execution_count": 5,
      "outputs": [
        {
          "output_type": "stream",
          "name": "stdout",
          "text": [
            "[[0. 0.]\n",
            " [0. 0.]\n",
            " [0. 0.]\n",
            " [0. 0.]\n",
            " [0. 0.]]\n"
          ]
        }
      ]
    },
    {
      "cell_type": "markdown",
      "source": [
        "Task c"
      ],
      "metadata": {
        "id": "DM9SI9XjP1dk"
      }
    },
    {
      "cell_type": "code",
      "source": [
        "c = np.zeros((2,5))\n",
        "print(c)"
      ],
      "metadata": {
        "colab": {
          "base_uri": "https://localhost:8080/"
        },
        "id": "6qZmZCvEP3Rd",
        "outputId": "802ae539-5fba-4495-da37-a5647279462d"
      },
      "execution_count": 6,
      "outputs": [
        {
          "output_type": "stream",
          "name": "stdout",
          "text": [
            "[[0. 0. 0. 0. 0.]\n",
            " [0. 0. 0. 0. 0.]]\n"
          ]
        }
      ]
    },
    {
      "cell_type": "markdown",
      "source": [
        "Task d"
      ],
      "metadata": {
        "id": "WFxBSP4OQjQA"
      }
    },
    {
      "cell_type": "code",
      "source": [
        "d = np.linspace(5,5,10)\n",
        "print(d)"
      ],
      "metadata": {
        "colab": {
          "base_uri": "https://localhost:8080/"
        },
        "id": "oVAD7gLZQkzg",
        "outputId": "453f9075-1b36-4e8f-86e8-9e81e87aa133"
      },
      "execution_count": 7,
      "outputs": [
        {
          "output_type": "stream",
          "name": "stdout",
          "text": [
            "[5. 5. 5. 5. 5. 5. 5. 5. 5. 5.]\n"
          ]
        }
      ]
    },
    {
      "cell_type": "markdown",
      "source": [
        "Task e"
      ],
      "metadata": {
        "id": "WjJrauPTRN_r"
      }
    },
    {
      "cell_type": "code",
      "source": [
        "e = np.linspace(10,50,41)\n",
        "print(e)\n",
        "e2 = np.arange(10,51)\n",
        "print(e2)"
      ],
      "metadata": {
        "colab": {
          "base_uri": "https://localhost:8080/"
        },
        "id": "LyIBbeKORPr_",
        "outputId": "c355c6a7-f3f6-4aa2-c7e7-690fd13f8ffc"
      },
      "execution_count": 9,
      "outputs": [
        {
          "output_type": "stream",
          "name": "stdout",
          "text": [
            "[10. 11. 12. 13. 14. 15. 16. 17. 18. 19. 20. 21. 22. 23. 24. 25. 26. 27.\n",
            " 28. 29. 30. 31. 32. 33. 34. 35. 36. 37. 38. 39. 40. 41. 42. 43. 44. 45.\n",
            " 46. 47. 48. 49. 50.]\n",
            "[10 11 12 13 14 15 16 17 18 19 20 21 22 23 24 25 26 27 28 29 30 31 32 33\n",
            " 34 35 36 37 38 39 40 41 42 43 44 45 46 47 48 49 50]\n"
          ]
        }
      ]
    },
    {
      "cell_type": "markdown",
      "source": [
        "Task f"
      ],
      "metadata": {
        "id": "loUYz1TaRnWS"
      }
    },
    {
      "cell_type": "code",
      "source": [
        "f = np.arange(10,51,2)\n",
        "print(f)"
      ],
      "metadata": {
        "colab": {
          "base_uri": "https://localhost:8080/"
        },
        "id": "M9nxjQ29Roru",
        "outputId": "2f519d5a-1b87-480f-cf72-483d7e738ded"
      },
      "execution_count": 11,
      "outputs": [
        {
          "output_type": "stream",
          "name": "stdout",
          "text": [
            "[10 12 14 16 18 20 22 24 26 28 30 32 34 36 38 40 42 44 46 48 50]\n"
          ]
        }
      ]
    },
    {
      "cell_type": "markdown",
      "source": [
        "Task g"
      ],
      "metadata": {
        "id": "wjsDcJM-R4FZ"
      }
    },
    {
      "cell_type": "code",
      "source": [
        "g = np.array([[0,1,2],[3,4,5],[6,7,8]])\n",
        "print(g)"
      ],
      "metadata": {
        "colab": {
          "base_uri": "https://localhost:8080/"
        },
        "id": "224_YEudSa-O",
        "outputId": "8a315158-4330-491d-c66d-7baf9b5577c0"
      },
      "execution_count": 12,
      "outputs": [
        {
          "output_type": "stream",
          "name": "stdout",
          "text": [
            "[[0 1 2]\n",
            " [3 4 5]\n",
            " [6 7 8]]\n"
          ]
        }
      ]
    },
    {
      "cell_type": "markdown",
      "source": [
        "Task h"
      ],
      "metadata": {
        "id": "yPJZq9zCTgJP"
      }
    },
    {
      "cell_type": "code",
      "source": [
        "h = np.eye(3)\n",
        "print(h)"
      ],
      "metadata": {
        "colab": {
          "base_uri": "https://localhost:8080/"
        },
        "id": "yZv2w6I4TjOm",
        "outputId": "c617f87b-cb50-42eb-e22d-51a0ee92bbd3"
      },
      "execution_count": 13,
      "outputs": [
        {
          "output_type": "stream",
          "name": "stdout",
          "text": [
            "[[1. 0. 0.]\n",
            " [0. 1. 0.]\n",
            " [0. 0. 1.]]\n"
          ]
        }
      ]
    },
    {
      "cell_type": "markdown",
      "source": [
        "Task i"
      ],
      "metadata": {
        "id": "ULS38e5xTqn0"
      }
    },
    {
      "cell_type": "code",
      "source": [
        "i = np.random.rand()\n",
        "print(i)"
      ],
      "metadata": {
        "colab": {
          "base_uri": "https://localhost:8080/"
        },
        "id": "fOdykMgTTuZ-",
        "outputId": "3b79c010-6c58-417d-ef3c-d62f39e99835"
      },
      "execution_count": 14,
      "outputs": [
        {
          "output_type": "stream",
          "name": "stdout",
          "text": [
            "0.9725893931653671\n"
          ]
        }
      ]
    },
    {
      "cell_type": "markdown",
      "source": [
        "Task j"
      ],
      "metadata": {
        "id": "afbu-Za0UGdD"
      }
    },
    {
      "cell_type": "code",
      "source": [
        "j = np.random.standard_normal(25)\n",
        "print(j)"
      ],
      "metadata": {
        "id": "rylLSSLmUR5B",
        "colab": {
          "base_uri": "https://localhost:8080/"
        },
        "outputId": "286817f8-0bcc-4abf-ad83-f1c3512009fb"
      },
      "execution_count": 15,
      "outputs": [
        {
          "output_type": "stream",
          "name": "stdout",
          "text": [
            "[ 0.22084857  1.71913586  0.35382768  0.01937312 -0.03701493 -0.51351203\n",
            " -0.05878931  0.27226138 -0.98670687 -0.82314705  0.72359628 -1.17752345\n",
            "  0.00489725  0.31538592 -0.68162493 -1.10404509  1.05863646  1.17226181\n",
            " -1.38948346 -0.4353235   0.79053025 -0.80804082 -0.99091773  0.62704479\n",
            " -0.82377123]\n"
          ]
        }
      ]
    },
    {
      "cell_type": "markdown",
      "source": [
        "Task k"
      ],
      "metadata": {
        "id": "I1Fw7eTE6khJ"
      }
    },
    {
      "cell_type": "code",
      "source": [
        "k = np.linspace(0.01,1,100)\n",
        "k = k.reshape((10,10))\n",
        "print(k)"
      ],
      "metadata": {
        "colab": {
          "base_uri": "https://localhost:8080/"
        },
        "id": "5Ps4gefe6vvY",
        "outputId": "c439dd3d-8fe7-473c-b3c0-eaefbdc6fbfd"
      },
      "execution_count": 16,
      "outputs": [
        {
          "output_type": "stream",
          "name": "stdout",
          "text": [
            "[[0.01 0.02 0.03 0.04 0.05 0.06 0.07 0.08 0.09 0.1 ]\n",
            " [0.11 0.12 0.13 0.14 0.15 0.16 0.17 0.18 0.19 0.2 ]\n",
            " [0.21 0.22 0.23 0.24 0.25 0.26 0.27 0.28 0.29 0.3 ]\n",
            " [0.31 0.32 0.33 0.34 0.35 0.36 0.37 0.38 0.39 0.4 ]\n",
            " [0.41 0.42 0.43 0.44 0.45 0.46 0.47 0.48 0.49 0.5 ]\n",
            " [0.51 0.52 0.53 0.54 0.55 0.56 0.57 0.58 0.59 0.6 ]\n",
            " [0.61 0.62 0.63 0.64 0.65 0.66 0.67 0.68 0.69 0.7 ]\n",
            " [0.71 0.72 0.73 0.74 0.75 0.76 0.77 0.78 0.79 0.8 ]\n",
            " [0.81 0.82 0.83 0.84 0.85 0.86 0.87 0.88 0.89 0.9 ]\n",
            " [0.91 0.92 0.93 0.94 0.95 0.96 0.97 0.98 0.99 1.  ]]\n"
          ]
        }
      ]
    },
    {
      "cell_type": "markdown",
      "source": [
        "Task l"
      ],
      "metadata": {
        "id": "VGUT8dzs94qT"
      }
    },
    {
      "cell_type": "code",
      "source": [
        "mat = np.arange(1,26).reshape(5,5)\n",
        "print(mat)"
      ],
      "metadata": {
        "colab": {
          "base_uri": "https://localhost:8080/"
        },
        "id": "xdQrxTC398j0",
        "outputId": "4ceffef5-4f4d-4ab3-e9fb-9004b5af0dca"
      },
      "execution_count": 17,
      "outputs": [
        {
          "output_type": "stream",
          "name": "stdout",
          "text": [
            "[[ 1  2  3  4  5]\n",
            " [ 6  7  8  9 10]\n",
            " [11 12 13 14 15]\n",
            " [16 17 18 19 20]\n",
            " [21 22 23 24 25]]\n"
          ]
        }
      ]
    },
    {
      "cell_type": "code",
      "source": [
        "lx = mat[2:5]\n",
        "l = np.delete(lx,0,axis=1)\n",
        "print(l)"
      ],
      "metadata": {
        "colab": {
          "base_uri": "https://localhost:8080/"
        },
        "id": "aAnJX81kBtqY",
        "outputId": "27eaa07a-e053-47b6-ab0c-d90e4e3edec6"
      },
      "execution_count": 18,
      "outputs": [
        {
          "output_type": "stream",
          "name": "stdout",
          "text": [
            "[[12 13 14 15]\n",
            " [17 18 19 20]\n",
            " [22 23 24 25]]\n"
          ]
        }
      ]
    },
    {
      "cell_type": "markdown",
      "source": [
        "Task m"
      ],
      "metadata": {
        "id": "MsrjqcMUEwe2"
      }
    },
    {
      "cell_type": "code",
      "source": [
        "m = mat[3][4]\n",
        "print(m)"
      ],
      "metadata": {
        "colab": {
          "base_uri": "https://localhost:8080/"
        },
        "id": "T_-TcfCYE466",
        "outputId": "5cd5348a-75a8-4e0d-8d24-c01f22ca1279"
      },
      "execution_count": 19,
      "outputs": [
        {
          "output_type": "stream",
          "name": "stdout",
          "text": [
            "20\n"
          ]
        }
      ]
    },
    {
      "cell_type": "markdown",
      "source": [
        "Task n"
      ],
      "metadata": {
        "id": "coulZdWQFxmA"
      }
    },
    {
      "cell_type": "code",
      "source": [
        "mat = np.array(mat)\n",
        "nx = mat[0:3,1]\n",
        "n=nx.reshape((3,1))\n",
        "print(n)"
      ],
      "metadata": {
        "colab": {
          "base_uri": "https://localhost:8080/"
        },
        "id": "1B1KacZVF1WF",
        "outputId": "b57bab13-a4f4-4ca9-a3f0-81a4cb87a961"
      },
      "execution_count": 20,
      "outputs": [
        {
          "output_type": "stream",
          "name": "stdout",
          "text": [
            "[[ 2]\n",
            " [ 7]\n",
            " [12]]\n"
          ]
        }
      ]
    },
    {
      "cell_type": "markdown",
      "source": [
        "Task o"
      ],
      "metadata": {
        "id": "6uoN6qFfKkbT"
      }
    },
    {
      "cell_type": "code",
      "source": [
        "o = mat[:][4]\n",
        "print(o)"
      ],
      "metadata": {
        "colab": {
          "base_uri": "https://localhost:8080/"
        },
        "id": "Cy-lKSOqKnhe",
        "outputId": "000b6d84-95e0-4dc2-8830-35f723df5a2c"
      },
      "execution_count": 22,
      "outputs": [
        {
          "output_type": "stream",
          "name": "stdout",
          "text": [
            "[21 22 23 24 25]\n"
          ]
        }
      ]
    },
    {
      "cell_type": "markdown",
      "source": [
        "Task p"
      ],
      "metadata": {
        "id": "KV9YoFzmc_jd"
      }
    },
    {
      "cell_type": "code",
      "source": [
        "p = mat[:][3:5]\n",
        "print(p)"
      ],
      "metadata": {
        "colab": {
          "base_uri": "https://localhost:8080/"
        },
        "id": "w-ucYrfndCsf",
        "outputId": "78992c98-6a2f-47f8-e996-70d05e84eac2"
      },
      "execution_count": 26,
      "outputs": [
        {
          "output_type": "stream",
          "name": "stdout",
          "text": [
            "[[16 17 18 19 20]\n",
            " [21 22 23 24 25]]\n"
          ]
        }
      ]
    },
    {
      "cell_type": "markdown",
      "source": [
        "Task q"
      ],
      "metadata": {
        "id": "i3SP5SqtdTld"
      }
    },
    {
      "cell_type": "code",
      "source": [
        "q = np.sum(mat)\n",
        "print(q)"
      ],
      "metadata": {
        "colab": {
          "base_uri": "https://localhost:8080/"
        },
        "id": "RkzxEEkFdXzB",
        "outputId": "f2f5dd80-96de-4e8c-9de0-d0cc69bdd2be"
      },
      "execution_count": 28,
      "outputs": [
        {
          "output_type": "stream",
          "name": "stdout",
          "text": [
            "325\n"
          ]
        }
      ]
    },
    {
      "cell_type": "markdown",
      "source": [
        "Task r"
      ],
      "metadata": {
        "id": "VDqSPBkKdxpt"
      }
    },
    {
      "cell_type": "code",
      "source": [
        "r = np.std(mat)\n",
        "print(r)"
      ],
      "metadata": {
        "colab": {
          "base_uri": "https://localhost:8080/"
        },
        "id": "mGk-O-wOd04d",
        "outputId": "cf16577c-c7fa-4d0f-d561-574331bfa0a5"
      },
      "execution_count": 29,
      "outputs": [
        {
          "output_type": "stream",
          "name": "stdout",
          "text": [
            "7.211102550927978\n"
          ]
        }
      ]
    },
    {
      "cell_type": "markdown",
      "source": [
        "Task s"
      ],
      "metadata": {
        "id": "ugwcfCDwd8w5"
      }
    },
    {
      "cell_type": "code",
      "source": [
        "s = np.sum(mat,axis=0)\n",
        "print(s)"
      ],
      "metadata": {
        "colab": {
          "base_uri": "https://localhost:8080/"
        },
        "id": "iPQFCQ6Xd-G2",
        "outputId": "c69b20ba-39b8-4f9f-ad8b-8d63ca1e8a06"
      },
      "execution_count": 32,
      "outputs": [
        {
          "output_type": "stream",
          "name": "stdout",
          "text": [
            "[55 60 65 70 75]\n"
          ]
        }
      ]
    }
  ]
}